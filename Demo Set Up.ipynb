{
 "metadata": {
  "kernelspec": {
   "display_name": "Streamlit Notebook",
   "name": "streamlit"
  },
  "lastEditStatus": {
   "notebookId": "qlw2cbmqsuzyyvpif7cj",
   "authorId": "8212955811170",
   "authorName": "PSAENZDETEJADA",
   "authorEmail": "pablo.saenzdetejada@snowflake.com",
   "sessionId": "5748d5e3-6b70-43f5-bda9-5143e6cf44d0",
   "lastEditTime": 1761307625370
  }
 },
 "nbformat_minor": 5,
 "nbformat": 4,
 "cells": [
  {
   "cell_type": "code",
   "id": "3775908f-ca36-4846-8f38-5adca39217f2",
   "metadata": {
    "language": "python",
    "name": "cell1"
   },
   "source": "# Import python packages\nimport streamlit as st\nimport pandas as pd\n\n# We can also use Snowpark for our analyses!\nfrom snowflake.snowpark.context import get_active_session\nsession = get_active_session()\n",
   "execution_count": null,
   "outputs": []
  },
  {
   "cell_type": "code",
   "id": "1b3adc8e-e077-4df8-af44-5ab00f5c701f",
   "metadata": {
    "language": "sql",
    "name": "cell5"
   },
   "outputs": [],
   "source": "",
   "execution_count": null
  },
  {
   "cell_type": "markdown",
   "id": "4bddf217-5369-46ca-a133-e0af625d7257",
   "metadata": {
    "name": "First_Steps",
    "collapsed": false
   },
   "source": "# Primeros pasos\nusar rol AccountAdmin para tener suficientes permisos para todo el proceso e inicialmente crear los siguientes objetos:\n\n- Base de datos \"DEMO_VENTAS_VEHICULOS\".\n- Esquemas RAW, REFINED, CURATED dentro de la base de datos."
  },
  {
   "cell_type": "code",
   "id": "8d50cbf4-0c8d-4950-86cb-114990437ac9",
   "metadata": {
    "language": "sql",
    "name": "fs_1"
   },
   "source": "-- Welcome to Snowflake Notebooks!\n-- Try out a SQL cell to generate some data.\nUSE ROLE ACCOUNTADMIN;\nCREATE OR REPLACE DATABASE DEMO_VENTA_VEHICULOS;\nCREATE OR REPLACE SCHEMA DEMO_VENTA_VEHICULOS.RAW;\nCREATE OR REPLACE SCHEMA DEMO_VENTA_VEHICULOS.REFINED;\nCREATE OR REPLACE SCHEMA DEMO_VENTA_VEHICULOS.CURATED;",
   "execution_count": null,
   "outputs": []
  },
  {
   "cell_type": "code",
   "id": "3dd6c307-dc74-4399-8df2-fffee5c22fd3",
   "metadata": {
    "language": "sql",
    "name": "fs_2"
   },
   "outputs": [],
   "source": "CREATE OR REPLACE STAGE DEMO_VENTA_VEHICULOS.RAW.MANUALES\n    DIRECTORY = (ENABLE = TRUE)\n    ENCRYPTION = (TYPE = 'SNOWFLAKE_SSE');",
   "execution_count": null
  },
  {
   "cell_type": "markdown",
   "id": "44938208-4f0d-4168-b5d4-4658ce1b5294",
   "metadata": {
    "name": "fs_3",
    "collapsed": false
   },
   "source": "Descarga los dos manuales de ejemplo disponibles aquí:\n\n- [Nissan Qashqai Guía de Referencia Rápida](https://manualesdemocortexvehiculos.s3.eu-south-2.amazonaws.com/Nissan_Qashqai_Guia_de_Referencia_Rapida.pdf)\n- [Nissan Qashqai Manual del Conductor](https://manualesdemocortexvehiculos.s3.eu-south-2.amazonaws.com/Nissan_Qashqai_Manual_del_Conductor.pdf)\n\nSe han eliminado algunas páginas del manual del conductor para que no pasen de 500 páginas, ya que actualmente la función de AISQL tiene un límite que no permite parsear documentos de más de 500 páginas.\n\nA continuación, sube ambos PDFs dede la UI de Snowflake (Snowsight) al STAGE creado en la celda anterior que se encuentra en:\n\n- Base de datos: DEMO_VENTA_VEHICULOS\n- Esquema: RAW\n- Nombre del Stage: MANUALES"
  },
  {
   "cell_type": "markdown",
   "id": "1142350f-9c94-41e5-a7d4-74c91b54d519",
   "metadata": {
    "name": "load_s3",
    "collapsed": false
   },
   "source": "# Cargar datos desde S3\nA continuación se cargarán todos los microdatos de matriculaciones de vehículos de la Dirección General de Tráfico desde un bucket de S3 de acceso público.\n\nLos datos originales están disponibles en: https://www.dgt.es/menusecundario/dgt-en-cifras/dgt-en-cifras-resultados/dgt-en-cifras-detalle/Microdatos-de-Matriculaciones-de-Vehiculos-mensual/\n\nEl proceso para cargar los datos es:\n\n- Crear un FILE FORMAT para que se carguen los datos correctamente. Los datos están en ficheros planos txt sin separador de campos y con un salto de línea para cada registro y con la primera fila de información no útil para el análisis. A partir de la fila 2, cada registro representa una matriculación de un vehículo.\n- A continuación se crea la tabla DEMO_VENTA_VEHICULOS.RAW.CSV_MATRICULACIONES donde se copiarán todos los datos RAW.\n- Finalmente se copian todos los datos de los ficheros en S3 a dicha tabla."
  },
  {
   "cell_type": "code",
   "id": "60b07e92-2ef2-4742-bba9-122df5ababde",
   "metadata": {
    "language": "sql",
    "name": "create_matriculaciones_resources"
   },
   "outputs": [],
   "source": "-- Crear File Format para leer correctamente los datos RAW\nCREATE OR REPLACE FILE FORMAT DEMO_VENTA_VEHICULOS.RAW.CSV_SINGLE_COLUMN\n    TYPE = 'CSV'\n    FIELD_DELIMITER = NONE\n    RECORD_DELIMITER = '\\n'\n    SKIP_HEADER = 1\n    ENCODING = 'ISO88591';\n\n-- Crear tabla para insertar datos RAW\nCREATE OR REPLACE TABLE DEMO_VENTA_VEHICULOS.RAW.CSV_MATRICULACIONES\n(RAW VARCHAR);\n\n-- Insertar datos de S3 en tabla RAW\nCOPY INTO DEMO_VENTA_VEHICULOS.RAW.CSV_MATRICULACIONES\nFROM 's3://dgtmicrodatosmatriculacionesmensuales/'\nFILE_FORMAT = ( FORMAT_NAME = DEMO_VENTA_VEHICULOS.RAW.CSV_SINGLE_COLUMN)\nON_ERROR = 'skip_file';",
   "execution_count": null
  },
  {
   "cell_type": "code",
   "id": "cf8fe99c-a00a-4ef9-8d01-a4cea94d39d5",
   "metadata": {
    "language": "sql",
    "name": "check_raw_data"
   },
   "outputs": [],
   "source": "-- Comprobar datos cargados\nSELECT * FROM DEMO_VENTA_VEHICULOS.RAW.CSV_MATRICULACIONES LIMIT 5;",
   "execution_count": null
  },
  {
   "cell_type": "markdown",
   "id": "66636b0b-4be1-4039-a04f-9d15ea87ce54",
   "metadata": {
    "name": "first_cleansing",
    "collapsed": false
   },
   "source": "# Dividir campos de matriculaciones y tablas de referencia\nEn este largo apartado vamos a crear una tabla en el esquema REFINED donde dividiremos los datos RAW de matriculaciones en las distintas columnas correspondientes.\n\nAdemás, crearemos tablas de referencia para poder pasar de códigos a valores descriptivos en varias variables e insertaremos los valores correspondientes.\n\nToda esta información está además disponible en el documento PDF de diseño de registro de la DGT disponible en https://www.dgt.es/export/sites/web-DGT/.galleries/downloads/dgt-en-cifras/matraba/MATRICULACIONES_MATRABA.pdf"
  },
  {
   "cell_type": "code",
   "id": "8eabfcc2-f12b-4970-9ba2-96cf27efb241",
   "metadata": {
    "language": "sql",
    "name": "parse_raw_data"
   },
   "outputs": [],
   "source": "CREATE OR REPLACE TABLE DEMO_VENTA_VEHICULOS.REFINED.FACT_MATRICULACIONES (\n    FECHA_MATRICULA VARCHAR, \n    COD_CLASE_MAT VARCHAR, \n    FEC_TRAMITACION VARCHAR, \n    MARCA_ITV VARCHAR, \n    MODELO_ITV VARCHAR, \n    COD_PROCEDENCIA_ITV VARCHAR,\n    BASTIDOR_ITV VARCHAR,\n    COD_TIPO VARCHAR,\n    COD_PROPULSION_ITV VARCHAR,\n    CILINDRADA_ITV VARCHAR,\n    POTENCIA_ITV VARCHAR,\n    TARA VARCHAR,\n    PESO_MAX VARCHAR,\n    NUM_PLAZAS VARCHAR,\n    IND_PRECINTO VARCHAR,\n    IND_EMBARGO VARCHAR,\n    NUM_TRANSMISIONES VARCHAR,\n    NUM_TITULARES VARCHAR,\n    LOCALIDAD_VEHICULO VARCHAR,\n    COD_PROVINCIA_VEH VARCHAR,\n    COD_PROVINCITA_MAT VARCHAR,\n    CLAVE_TRAMITE VARCHAR,\n    FEC_TRAMITE VARCHAR,\n    CODIGO_POSTAL VARCHAR,\n    FEC_PRIM_MATRICULACION VARCHAR,\n    IND_NUEVO_USADO VARCHAR,\n    PERSONA_FISICA_JURIDICA VARCHAR,\n    CODIGO_ITV VARCHAR,\n    SERVICIO VARCHAR,\n    COD_MUNICIPIO_INE_VEH VARCHAR,\n    MUNICIPIO VARCHAR,\n    KW_ITV VARCHAR,\n    NUM_PLAZAS_MAX VARCHAR,\n    CO2_ITV VARCHAR,\n    RENTING VARCHAR,\n    COD_TUTELA VARCHAR,\n    COD_POSESION VARCHAR,\n    IND_BAJA_DEF VARCHAR,\n    IND_BAJA_TEMP VARCHAR,\n    IND_SUSTRACCION VARCHAR,\n    BAJA_TELEMATICA VARCHAR,\n    TIPO_ITV VARCHAR,\n    VARIANTE_ITV VARCHAR,\n    VERSION_ITV VARCHAR,\n    FABRICANTE_ITV VARCHAR,\n    MASA_ORDEN_MARCHA_ITV VARCHAR,\n    MASA_MAXIMA_TECNICA_ADMISIBLE VARCHAR,\n    CATEGORIA_HOMOLOGACION_EUROPEA_ITV VARCHAR,\n    CARROCERIA VARCHAR,\n    PLAZAS_PIE VARCHAR,\n    NIVEL_EMISIONES_EURO_ITV VARCHAR,\n    CONSUMO_WHKM_ITV VARCHAR,\n    CLASIFICACION_REGLAMENTO_VEHICULOS_ITV VARCHAR,\n    CATEGORIA_VEHICULO_ELECTRICO VARCHAR,\n    AUTONOMIA_VEHICULO_ELECTRICO VARCHAR,\n    MARCA_VEHICULO_BASE VARCHAR,\n    FABRICANTE_VEHICULO_BASE VARCHAR,\n    TIPO_VEHICULO_BASE VARCHAR,\n    VARIANTE_VEHICULO_BASE VARCHAR,\n    VERSION_VEHICULO_BASE VARCHAR,\n    DISTANCIA_EJES_12_ITV VARCHAR,\n    VIA_ANTERIOR_ITV VARCHAR,\n    VIA_POSTERIOR_ITV VARCHAR,\n    TIPO_ALIMENTACION_ITV VARCHAR,\n    CONTRASENA_HOMOLOGACION_ITV VARCHAR,\n    ECO_INNOVACION_ITV VARCHAR,\n    REDUCCION_ECO_ITV VARCHAR,\n    CODIGO_ECO_ITV VARCHAR,\n    FEC_PROCESO VARCHAR    \n    ) AS \nSELECT\n    CASE WHEN TRIM(SUBSTR(RAW,1,8))='' THEN NULL ELSE TRIM(SUBSTR(RAW,0,8)) END,\n    CASE WHEN TRIM(SUBSTR(RAW,9,1))='' THEN NULL ELSE TRIM(SUBSTR(RAW,9,1)) END,\n    CASE WHEN TRIM(SUBSTR(RAW,10,8))='' THEN NULL ELSE TRIM(SUBSTR(RAW,10,8)) END,\n    CASE WHEN TRIM(SUBSTR(RAW,18,30))='' THEN NULL ELSE TRIM(SUBSTR(RAW,18,30)) END,\n    CASE WHEN TRIM(SUBSTR(RAW,48,22))='' THEN NULL ELSE TRIM(SUBSTR(RAW,48,22)) END,\n    CASE WHEN TRIM(SUBSTR(RAW,70,1))='' THEN NULL ELSE TRIM(SUBSTR(RAW,70,1)) END,\n    CASE WHEN TRIM(SUBSTR(RAW,71,21))='' THEN NULL ELSE TRIM(SUBSTR(RAW,71,21)) END,\n    CASE WHEN TRIM(SUBSTR(RAW,92,2))='' THEN NULL ELSE TRIM(SUBSTR(RAW,92,2)) END,\n    CASE WHEN TRIM(SUBSTR(RAW,94,1))='' THEN NULL ELSE TRIM(SUBSTR(RAW,94,1)) END,\n    CASE WHEN TRIM(SUBSTR(RAW,95,5))='' THEN NULL ELSE TRIM(SUBSTR(RAW,95,5)) END,\n    CASE WHEN TRIM(SUBSTR(RAW,100,6))='' THEN NULL ELSE TRIM(SUBSTR(RAW,100,6)) END,\n    CASE WHEN TRIM(SUBSTR(RAW,106,6))='' THEN NULL ELSE TRIM(SUBSTR(RAW,106,6)) END,\n    CASE WHEN TRIM(SUBSTR(RAW,112,6))='' THEN NULL ELSE TRIM(SUBSTR(RAW,112,6)) END,\n    CASE WHEN TRIM(SUBSTR(RAW,118,3))='' THEN NULL ELSE TRIM(SUBSTR(RAW,118,3)) END,\n    CASE WHEN TRIM(SUBSTR(RAW,121,2))='' THEN NULL ELSE TRIM(SUBSTR(RAW,121,2)) END,\n    CASE WHEN TRIM(SUBSTR(RAW,123,2))='' THEN NULL ELSE TRIM(SUBSTR(RAW,123,2)) END,\n    CASE WHEN TRIM(SUBSTR(RAW,125,2))='' THEN NULL ELSE TRIM(SUBSTR(RAW,125,2)) END,\n    CASE WHEN TRIM(SUBSTR(RAW,127,2))='' THEN NULL ELSE TRIM(SUBSTR(RAW,127,2)) END,\n    CASE WHEN TRIM(SUBSTR(RAW,129,24))='' THEN NULL ELSE TRIM(SUBSTR(RAW,129,24)) END,\n    CASE WHEN TRIM(SUBSTR(RAW,153,2))='' THEN NULL ELSE TRIM(SUBSTR(RAW,153,2)) END,\n    CASE WHEN TRIM(SUBSTR(RAW,155,2))='' THEN NULL ELSE TRIM(SUBSTR(RAW,155,2)) END,\n    CASE WHEN TRIM(SUBSTR(RAW,157,1))='' THEN NULL ELSE TRIM(SUBSTR(RAW,157,1)) END,\n    CASE WHEN TRIM(SUBSTR(RAW,158,8))='' THEN NULL ELSE TRIM(SUBSTR(RAW,158,8)) END,\n    CASE WHEN TRIM(SUBSTR(RAW,166,5))='' THEN NULL ELSE TRIM(SUBSTR(RAW,166,5)) END,\n    CASE WHEN TRIM(SUBSTR(RAW,171,8))='' THEN NULL ELSE TRIM(SUBSTR(RAW,171,8)) END,\n    CASE WHEN TRIM(SUBSTR(RAW,179,1))='' THEN NULL ELSE TRIM(SUBSTR(RAW,179,1)) END,\n    CASE WHEN TRIM(SUBSTR(RAW,180,1))='' THEN NULL ELSE TRIM(SUBSTR(RAW,180,1)) END,\n    CASE WHEN TRIM(SUBSTR(RAW,181,9))='' THEN NULL ELSE TRIM(SUBSTR(RAW,181,9)) END,\n    CASE WHEN TRIM(SUBSTR(RAW,190,3))='' THEN NULL ELSE TRIM(SUBSTR(RAW,190,3)) END,\n    CASE WHEN TRIM(SUBSTR(RAW,193,5))='' THEN NULL ELSE TRIM(SUBSTR(RAW,193,5)) END,\n    CASE WHEN TRIM(SUBSTR(RAW,198,30))='' THEN NULL ELSE TRIM(SUBSTR(RAW,198,30)) END,\n    CASE WHEN TRIM(SUBSTR(RAW,228,7))='' THEN NULL ELSE TRIM(SUBSTR(RAW,228,7)) END,\n    CASE WHEN TRIM(SUBSTR(RAW,235,3))='' THEN NULL ELSE TRIM(SUBSTR(RAW,235,3)) END,\n    CASE WHEN TRIM(SUBSTR(RAW,238,5))='' THEN NULL ELSE TRIM(SUBSTR(RAW,238,5)) END,\n    CASE WHEN TRIM(SUBSTR(RAW,243,1))='' THEN NULL ELSE TRIM(SUBSTR(RAW,243,1)) END,\n    CASE WHEN TRIM(SUBSTR(RAW,244,1))='' THEN NULL ELSE TRIM(SUBSTR(RAW,244,1)) END,\n    CASE WHEN TRIM(SUBSTR(RAW,245,1))='' THEN NULL ELSE TRIM(SUBSTR(RAW,245,1)) END,\n    CASE WHEN TRIM(SUBSTR(RAW,246,1))='' THEN NULL ELSE TRIM(SUBSTR(RAW,246,1)) END,\n    CASE WHEN TRIM(SUBSTR(RAW,247,1))='' THEN NULL ELSE TRIM(SUBSTR(RAW,247,1)) END,\n    CASE WHEN TRIM(SUBSTR(RAW,248,1))='' THEN NULL ELSE TRIM(SUBSTR(RAW,248,1)) END,\n    CASE WHEN TRIM(SUBSTR(RAW,249,11))='' THEN NULL ELSE TRIM(SUBSTR(RAW,249,11)) END,\n    CASE WHEN TRIM(SUBSTR(RAW,260,25))='' THEN NULL ELSE TRIM(SUBSTR(RAW,260,25)) END,\n    CASE WHEN TRIM(SUBSTR(RAW,285,25))='' THEN NULL ELSE TRIM(SUBSTR(RAW,285,25)) END,\n    CASE WHEN TRIM(SUBSTR(RAW,310,35))='' THEN NULL ELSE TRIM(SUBSTR(RAW,310,35)) END,\n    CASE WHEN TRIM(SUBSTR(RAW,345,70))='' THEN NULL ELSE TRIM(SUBSTR(RAW,345,70)) END,\n    CASE WHEN TRIM(SUBSTR(RAW,415,6))='' THEN NULL ELSE TRIM(SUBSTR(RAW,415,6)) END,\n    CASE WHEN TRIM(SUBSTR(RAW,421,6))='' THEN NULL ELSE TRIM(SUBSTR(RAW,421,6)) END,\n    CASE WHEN TRIM(SUBSTR(RAW,427,4))='' THEN NULL ELSE TRIM(SUBSTR(RAW,427,4)) END,\n    CASE WHEN TRIM(SUBSTR(RAW,431,4))='' THEN NULL ELSE TRIM(SUBSTR(RAW,431,4)) END,\n    CASE WHEN TRIM(SUBSTR(RAW,435,3))='' THEN NULL ELSE TRIM(SUBSTR(RAW,435,3)) END,\n    CASE WHEN TRIM(SUBSTR(RAW,438,8))='' THEN NULL ELSE TRIM(SUBSTR(RAW,438,8)) END,\n    CASE WHEN TRIM(SUBSTR(RAW,446,4))='' THEN NULL ELSE TRIM(SUBSTR(RAW,446,4)) END,\n    CASE WHEN TRIM(SUBSTR(RAW,450,4))='' THEN NULL ELSE TRIM(SUBSTR(RAW,450,4)) END,\n    CASE WHEN TRIM(SUBSTR(RAW,454,4))='' THEN NULL ELSE TRIM(SUBSTR(RAW,454,4)) END,\n    CASE WHEN TRIM(SUBSTR(RAW,458,6))='' THEN NULL ELSE TRIM(SUBSTR(RAW,458,6)) END,\n    CASE WHEN TRIM(SUBSTR(RAW,464,30))='' THEN NULL ELSE TRIM(SUBSTR(RAW,464,30)) END,\n    CASE WHEN TRIM(SUBSTR(RAW,494,50))='' THEN NULL ELSE TRIM(SUBSTR(RAW,494,50)) END,\n    CASE WHEN TRIM(SUBSTR(RAW,544,35))='' THEN NULL ELSE TRIM(SUBSTR(RAW,544,35)) END,\n    CASE WHEN TRIM(SUBSTR(RAW,579,25))='' THEN NULL ELSE TRIM(SUBSTR(RAW,579,25)) END,\n    CASE WHEN TRIM(SUBSTR(RAW,604,35))='' THEN NULL ELSE TRIM(SUBSTR(RAW,604,35)) END,\n    CASE WHEN TRIM(SUBSTR(RAW,639,4))='' THEN NULL ELSE TRIM(SUBSTR(RAW,639,4)) END,\n    CASE WHEN TRIM(SUBSTR(RAW,643,4))='' THEN NULL ELSE TRIM(SUBSTR(RAW,643,4)) END,\n    CASE WHEN TRIM(SUBSTR(RAW,647,4))='' THEN NULL ELSE TRIM(SUBSTR(RAW,647,4)) END,\n    CASE WHEN TRIM(SUBSTR(RAW,651,1))='' THEN NULL ELSE TRIM(SUBSTR(RAW,651,1)) END,\n    CASE WHEN TRIM(SUBSTR(RAW,652,25))='' THEN NULL ELSE TRIM(SUBSTR(RAW,652,25)) END,\n    CASE WHEN TRIM(SUBSTR(RAW,677,1))='' THEN NULL ELSE TRIM(SUBSTR(RAW,677,1)) END,\n    CASE WHEN TRIM(SUBSTR(RAW,678,4))='' THEN NULL ELSE TRIM(SUBSTR(RAW,678,4)) END,\n    CASE WHEN TRIM(SUBSTR(RAW,682,25))='' THEN NULL ELSE TRIM(SUBSTR(RAW,682,25)) END,\n    CASE WHEN TRIM(SUBSTR(RAW,707,8))='' THEN NULL ELSE TRIM(SUBSTR(RAW,707,8)) END\nFROM\n  DEMO_VENTA_VEHICULOS.RAW.CSV_MATRICULACIONES;\n\nCREATE OR REPLACE TABLE DEMO_VENTA_VEHICULOS.REFINED.DIM_MATRICULACIONES_COD_CLASE_MAT (COD_CLASE_MAT VARCHAR, DESCRIPCION VARCHAR);\n\nINSERT INTO DEMO_VENTA_VEHICULOS.REFINED.DIM_MATRICULACIONES_COD_CLASE_MAT VALUES\n    ('0','Ordinaria'),\n    ('1','Turistica'),\n    ('2','Remolque'),\n    ('3','Diplomatica'),\n    ('4','Reservada'),\n    ('5','Vehiculo especial'),\n    ('6','Ciclomotor'),\n    ('7','Transporte temporal'),\n    ('8','Historica');\n\nCREATE OR REPLACE TABLE DEMO_VENTA_VEHICULOS.REFINED.DIM_MATRICULACIONES_COD_PROCEDENCIA (COD_PROCEDENCIA VARCHAR, DESCRIPCION VARCHAR);\n\nINSERT INTO DEMO_VENTA_VEHICULOS.REFINED.DIM_MATRICULACIONES_COD_PROCEDENCIA VALUES\n    ('0','Fabricacion nacional'),\n    ('1','Importacion no comunitaria'),\n    ('2','Subasta'),\n    ('3','Importacion UE');\n    \nCREATE OR REPLACE TABLE DEMO_VENTA_VEHICULOS.REFINED.DIM_MATRICULACIONES_COD_TIPO (COD_TIPO VARCHAR, DESCRIPCION VARCHAR);\n\nINSERT INTO DEMO_VENTA_VEHICULOS.REFINED.DIM_MATRICULACIONES_COD_TIPO VALUES\n    ('00', 'CAMIÓN'),\n    ('01', 'CAMIÓN PLATAFORMA'),\n    ('02', 'CAMIÓN CAJA'),\n    ('03', 'CAMIÓN FURGÓN'),\n    ('04', 'CAMIÓN BOTELLERO'),\n    ('05', 'CAMIÓN CISTERNA'),\n    ('06', 'CAMIÓN JAULA'),\n    ('07', 'CAMIÓN FRIGORÍFICO'),\n    ('08', 'CAMIÓN TALLER'),\n    ('09', 'CAMIÓN PARA CANTERA'),\n    ('0A', 'CAMIÓN PORTAVEHÍCULOS'),\n    ('0B', 'CAMIÓN MIXTO'),\n    ('0C', 'CAMIÓN PORTACONTENEDORES'),\n    ('0D', 'CAMIÓN BASURERO'),\n    ('0E', 'CAMIÓN ISOTERMO'),\n    ('0F', 'CAMIÓN SILO'),\n    ('0G', 'VEHICULO MIXTO ADAPTABLE'),\n    ('10', 'CAMIÓN ARTICULADO'),\n    ('11', 'CAMIÓN ARTICULADO PLATAFORMA'),\n    ('12', 'CAMIÓN ARTICULADO CAJA'),\n    ('13', 'CAMIÓN ARTICULADO FURGÓN'),\n    ('14', 'CAMIÓN ARTICULADO BOTELLERO'),\n    ('15', 'CAMIÓN ARTICULADO CISTERNA'),\n    ('16', 'CAMIÓN ARTICULADO JAULA'),\n    ('17', 'CAMIÓN ARTICULADO FRIGORÍFICO'),\n    ('18', 'CAMIÓN ARTICULADO TALLER'),\n    ('19', 'CAMIÓN ARTICULADO PARA CANTERA'),\n    ('1A', 'CAMIÓN ARTICULADO VIVIENDA O CARAVANA'),\n    ('1C', 'CAMIÓN ARTICULADO HORMIGONERA'),\n    ('1D', 'CAMIÓN ARTICULADO VOLQUETE'),\n    ('1E', 'CAMIÓN ARTICULADO GRÚA'),\n    ('1F', 'CAMIÓN ARTICULADO CONTRA INCENDIOS'),\n    ('20', 'FURGONETA'),\n    ('21', 'FURGONETA MIXTA'),\n    ('22', 'AMBULANCIA'),\n    ('23', 'COCHE FÚNEBRE'),\n    ('24', 'CAMIONETA'),\n    ('25', 'TODO TERRENO'),\n    ('30', 'AUTOBÚS'),\n    ('31', 'AUTOBÚS ARTICULADO'),\n    ('32', 'AUTOBÚS MIXTO'),\n    ('33', 'BIBLIOBÚS'),\n    ('34', 'AUTOBÚS LABORATORIO'),\n    ('35', 'AUTOBÚS TALLER'),\n    ('36', 'AUTOBÚS SANITARIO'),\n    ('40', 'TURISMO'),\n    ('50', 'MOTOCICLETA DE 2 RUEDAS SIN SIDECAR'),\n    ('51', 'MOTOCICLETA CON SIDECAR'),\n    ('52', 'MOTOCARRO'),\n    ('53', 'AUTOMÓVIL DE 3 RUEDAS'),\n    ('54', 'CUATRICICLO PESADO'),\n    ('60', 'COCHE DE INVÁLIDO'),\n    ('70', 'VEHÍCULO ESPECIAL'),\n    ('71', 'PALA CARGADORA'),\n    ('72', 'PALA EXCAVADORA'),\n    ('73', 'CARRETILLA ELEVADORA'),\n    ('74', 'MONIVELADORA'),\n    ('75', 'COMPACTADORA'),\n    ('76', 'APISONADORA'),\n    ('77', 'GIROGRAVILLADORA'),\n    ('78', 'MACHACADORA'),\n    ('79', 'QUITANIEVES'),\n    ('7A', 'VIVIENDA'),\n    ('7B', 'BARREDORA'),\n    ('7C', 'HORMIGONERA'),\n    ('7D', 'VOLQUETE DE CANTERAS'),\n    ('7E', 'GRÚA'),\n    ('7F', 'SERVICIO CONTRA INCENDIOS'),\n    ('7G', 'ASPIRADORA DE FANGOS'),\n    ('7H', 'MOTOCULTOR'),\n    ('7I', 'MAQUINARIA AGRÍCOLA AUTOMOTRIZ'),\n    ('7J', 'PALA CARGADORA-RETROEXCAVADORA'),\n    ('7K', 'TREN HASTA 160 PLAZAS'),\n    ('80', 'TRACTOR'),\n    ('81', 'TRACTOCAMIÓN'),\n    ('82', 'TRACTOCARRO'),\n    ('90', 'CICLOMOTOR DE 2 RUEDAS'),\n    ('91', 'CICLOMOTOR DE 3 RUEDAS'),\n    ('92', 'CUATRICICLO LIGERO'),\n    ('EX', 'EXTRANJERO'),\n    ('R0', 'REMOLQUE'),\n    ('R1', 'REMOLQUE PLATAFORMA'),\n    ('R2', 'REMOLQUE CAJA'),\n    ('R3', 'REMOLQUE FURGÓN'),\n    ('R4', 'REMOLQUE BOTELLERO'),\n    ('R5', 'REMOLQUE CISTERNA'),\n    ('R6', 'REMOLQUE JAULA'),\n    ('R7', 'REMOLQUE FRIGORÍFICO'),\n    ('R8', 'REMOLQUE TALLER'),\n    ('R9', 'REMOLQUE PARA CANTERAS'),\n    ('RA', 'REMOLQUE VIVIENDA O CARAVANA'),\n    ('RB', 'REMOLQUE DE VIAJEROS O DE AUTOBÚS'),\n    ('RC', 'REMOLQUE HORMIGONERA'),\n    ('RD', 'REMOLQUE VOLQUETE DE CANTERA'),\n    ('RE', 'REMOLQUE DE GRÚA'),\n    ('RF', 'REMOLQUE CONTRA INCENDIOS'),\n    ('RH', 'MAQ.AGRÍCOLA ARRASTRADA DE 2 EJES'),\n    ('S0', 'SEMIRREMOLQUE'),\n    ('S1', 'SEMIRREMOLQUE PLATAFORMA'),\n    ('S2', 'SEMIRREMOLQUE CAJA'),\n    ('S3', 'SEMIRREMOLQUE FURGÓN'),\n    ('S4', 'SEMIRREMOLQUE BOTELLERO'),\n    ('S5', 'SEMIRREMOLQUE CISTERNA'),\n    ('S6', 'SEMIRREMOLQUE JAULA'),\n    ('S7', 'SEMIRREMOLQUE FRIGORÍFICO'),\n    ('S8', 'SEMIRREMOLQUE TALLER'),\n    ('S9', 'SEMIRREMOLQUE CANTERA'),\n    ('SA', 'SEMIRREMOLQUE VIVIENDA O CARAVANA'),\n    ('SB', 'SEMIRREMOLQUE VIAJEROS O AUTOBÚS'),\n    ('SC', 'SEMIRREMOLQUE HORMIGONERA'),\n    ('SD', 'SEMIRREMOLQUE VOLQUETE DE CANTERA'),\n    ('SE', 'SEMIRREMOLQUE GRÚA'),\n    ('SF', 'SEMIRREMOLQUE CONTRA INCENDIOS'),\n    ('SH', 'MAQ.AGRICOLA ARRASTRADA DE 1 EJE');\n    \nCREATE OR REPLACE TABLE DEMO_VENTA_VEHICULOS.REFINED.DIM_MATRICULACIONES_PROPULSION (COD_PROPULSION VARCHAR, DESCRIPCION VARCHAR);\n\nINSERT INTO DEMO_VENTA_VEHICULOS.REFINED.DIM_MATRICULACIONES_PROPULSION VALUES\n    ('0', 'Gasolina'),\n    ('1', 'Diesel'),\n    ('2', 'Eléctrico'),\n    ('3', 'Otros'),\n    ('4', 'Butano'),\n    ('5', 'Solar'),\n    ('6', 'Gas Licuado de Petróleo'),\n    ('7', 'Gas Natural Comprimido'),\n    ('8', 'Gas Natural Licuado'),\n    ('9', 'Hidrógeno'),\n    ('A', 'Biometano'),\n    ('B', 'Etanol'),\n    ('C', 'Biodiesel');\n    \nCREATE OR REPLACE TABLE DEMO_VENTA_VEHICULOS.REFINED.DIM_MATRICULACIONES_COD_PROVINCIA_VEH (COD_PROVINCIA_VEH VARCHAR, DESCRIPCION VARCHAR);\n\nINSERT INTO DEMO_VENTA_VEHICULOS.REFINED.DIM_MATRICULACIONES_COD_PROVINCIA_VEH VALUES\n    ('A', 'Alicante/Alacant'),\n    ('AB', 'Albacete'),\n    ('AL', 'Almería'),\n    ('AV', 'Ávila'),\n    ('B', 'Barcelona'),\n    ('BA', 'Badajoz'),\n    ('BI', 'Bizkaia'),\n    ('BU', 'Burgos'),\n    ('C', 'Coruña (A)'),\n    ('CA', 'Cádiz'),\n    ('CC', 'Cáceres'),\n    ('CE', 'Ceuta'),\n    ('CO', 'Córdoba'),\n    ('CR', 'Ciudad Real'),\n    ('CS', 'Castellón/Castelló'),\n    ('CU', 'Cuenca'),\n    ('DS', 'Desconocido'),\n    ('EX', 'Extranjero'),\n    ('GC', 'Palmas (Las)'),\n    ('GI', 'Girona'),\n    ('GR', 'Granada'),\n    ('GU', 'Guadalajara'),\n    ('H', 'Huelva'),\n    ('HU', 'Huesca'),\n    ('IB', 'Balears (Illes)'),\n    ('J', 'Jaén'),\n    ('L', 'Lleida'),\n    ('LE', 'León'),\n    ('LO', 'Rioja (La)'),\n    ('LU', 'Lugo'),\n    ('M', 'Madrid'),\n    ('MA', 'Málaga'),\n    ('ML', 'Melilla'),\n    ('MU', 'Murcia'),\n    ('NA', 'Navarra'),\n    ('O', 'Asturias'),\n    ('OU', 'Ourense'),\n    ('P', 'Palencia'),\n    ('PO', 'Pontevedra'),\n    ('S', 'Cantabria'),\n    ('SA', 'Salamanca'),\n    ('SE', 'Sevilla'),\n    ('SG', 'Segovia'),\n    ('SO', 'Soria'),\n    ('SS', 'Gipuzkoa'),\n    ('T', 'Tarragona'),\n    ('TE', 'Teruel'),\n    ('TF', 'Santa Cruz de Tenerife'),\n    ('TO', 'Toledo'),\n    ('V', 'Valencia/València'),\n    ('VA', 'Valladolid'),\n    ('VI', 'Araba/Álava'),\n    ('Z', 'Zaragoza'),\n    ('ZA', 'Zamora');\n    \nCREATE OR REPLACE TABLE DEMO_VENTA_VEHICULOS.REFINED.DIM_MATRICULACIONES_COD_PROVINCIA_MAT (COD_PROVINCIA_MAT VARCHAR, DESCRIPCION VARCHAR);\n\nINSERT INTO DEMO_VENTA_VEHICULOS.REFINED.DIM_MATRICULACIONES_COD_PROVINCIA_MAT VALUES\n    ('A', 'Alicante/Alacant'),\n    ('AB', 'Albacete'),\n    ('AL', 'Almería'),\n    ('AV', 'Ávila'),\n    ('B', 'Barcelona'),\n    ('BA', 'Badajoz'),\n    ('BI', 'Bizkaia'),\n    ('BU', 'Burgos'),\n    ('C', 'Coruña (A)'),\n    ('CA', 'Cádiz'),\n    ('CC', 'Cáceres'),\n    ('CE', 'Ceuta'),\n    ('CO', 'Córdoba'),\n    ('CR', 'Ciudad Real'),\n    ('CS', 'Castellón/Castelló'),\n    ('CU', 'Cuenca'),\n    ('DS', 'Desconocido'),\n    ('EX', 'Extranjero'),\n    ('GC', 'Palmas (Las)'),\n    ('GI', 'Girona'),\n    ('GR', 'Granada'),\n    ('GU', 'Guadalajara'),\n    ('H', 'Huelva'),\n    ('HU', 'Huesca'),\n    ('IB', 'Balears (Illes)'),\n    ('J', 'Jaén'),\n    ('L', 'Lleida'),\n    ('LE', 'León'),\n    ('LO', 'Rioja (La)'),\n    ('LU', 'Lugo'),\n    ('M', 'Madrid'),\n    ('MA', 'Málaga'),\n    ('ML', 'Melilla'),\n    ('MU', 'Murcia'),\n    ('NA', 'Navarra'),\n    ('O', 'Asturias'),\n    ('OU', 'Ourense'),\n    ('P', 'Palencia'),\n    ('PO', 'Pontevedra'),\n    ('S', 'Cantabria'),\n    ('SA', 'Salamanca'),\n    ('SE', 'Sevilla'),\n    ('SG', 'Segovia'),\n    ('SO', 'Soria'),\n    ('SS', 'Gipuzkoa'),\n    ('T', 'Tarragona'),\n    ('TE', 'Teruel'),\n    ('TF', 'Santa Cruz de Tenerife'),\n    ('TO', 'Toledo'),\n    ('V', 'Valencia/València'),\n    ('VA', 'Valladolid'),\n    ('VI', 'Araba/Álava'),\n    ('Z', 'Zaragoza'),\n    ('ZA', 'Zamora');\n    \nCREATE OR REPLACE TABLE DEMO_VENTA_VEHICULOS.REFINED.DIM_MATRICULACIONES_CLAVE_TRAMITE (CLAVE_TRAMITE VARCHAR, DESCRIPCION VARCHAR);\n\nINSERT INTO DEMO_VENTA_VEHICULOS.REFINED.DIM_MATRICULACIONES_CLAVE_TRAMITE VALUES\n    ('1', 'Matriculación ordinaria y de ciclomotores'),\n    ('2', 'Transferencia'),\n    ('3', 'Baja definitiva (excluidos Plan Renove, Baja por exportación y Tránsito comunitario)'),\n    ('4', 'Baja definitiva por Plan Renove'),\n    ('5', 'Rematriculación'),\n    ('6', 'Baja temporal'),\n    ('7', 'Baja definitiva por Exportación y por Tránsito comunitario'),\n    ('8', 'Matriculación vehículo especial'),\n    ('9', 'Matriculación temporal'),\n    ('A', 'Prorroga matricula temporal'),\n    ('B', 'Paso de matrícula temporal a definitiva');\n    \nCREATE OR REPLACE TABLE DEMO_VENTA_VEHICULOS.REFINED.DIM_MATRICULACIONES_SERVICIO (SERVICIO VARCHAR, DESCRIPCION VARCHAR);\n\nINSERT INTO DEMO_VENTA_VEHICULOS.REFINED.DIM_MATRICULACIONES_SERVICIO VALUES\n    ('A01', 'Público PUBL-Alquiler sin conductor'),\n    ('A02', 'Público PUBL-Alquiler con conductor'),\n    ('A03', 'Público PUBL-Aprendizaje de conducción'),\n    ('A04', 'Público PUBL-Taxi'),\n    ('A05', 'Público PUBL-Auxilio en carretera'),\n    ('A07', 'Público PUBL-Ambulancia'),\n    ('A08', 'Público PUBL-Funerario'),\n    ('A09', 'Particular PART-Obras'),\n    ('A10', 'Público PUBL-Mercancías peligrosas'),\n    ('A11', 'Público PUBL-Basurero'),\n    ('A12', 'Público PUBL-Transporte escolar'),\n    ('A13', 'Público PUBL-Policía'),\n    ('A14', 'Público PUBL-Bomberos'),\n    ('A15', 'Público PUBL-Protección civil y salvamento'),\n    ('A16', 'Público PUBL-Defensa'),\n    ('A18', 'Público PUBL-Actividad económica'),\n    ('A20', 'Público PUBL-Mercancías perecederas'),\n    ('B00', 'Particular PART-Sin especificar'),\n    ('B06', 'Particular PART-Agrícola'),\n    ('B07', 'Particular PART-'),\n    ('B09', 'Particular PART-Obras'),\n    ('B17', 'Particular PART-Vivienda'),\n    ('B18', 'Público PART-Actividad económica'),\n    ('B19', 'Particular PART-Recreativo'),\n    ('B21', 'Particular PART-Vehículo para ferias');\n    \nCREATE OR REPLACE TABLE DEMO_VENTA_VEHICULOS.REFINED.DIM_MATRICULACIONES_IND_BAJA_DEF (IND_BAJA_DEF VARCHAR, DESCRIPCION VARCHAR);\n\nINSERT INTO DEMO_VENTA_VEHICULOS.REFINED.DIM_MATRICULACIONES_IND_BAJA_DEF VALUES\n    ('0', 'Desguace'),\n    ('1', 'Agotamiento'),\n    ('2', 'Antigüedad'),\n    ('3', 'Renovación del parque'),\n    ('4', 'Otros motivos'),\n    ('5', 'R.D.L 4/1994 , R.D.L 10/1994 , R.D.L 4/1997'),\n    ('7', 'Voluntaria'),\n    ('8', 'Exportación'),\n    ('9', 'Transito comunitario'),\n    ('A', 'De oficio por abandono'),\n    ('B', 'De oficio por seguridad'),\n    ('C', 'Por Tratamiento Residual');\n    \nCREATE OR REPLACE TABLE DEMO_VENTA_VEHICULOS.REFINED.DIM_MATRICULACIONES_CATEGORIA_VEHICULO_ELECTRICO (CATEGORIA_VEHICULO_ELECTRICO VARCHAR, DESCRIPCION VARCHAR);\n\nINSERT INTO DEMO_VENTA_VEHICULOS.REFINED.DIM_MATRICULACIONES_CATEGORIA_VEHICULO_ELECTRICO VALUES\n    ('PHEV', 'Eléctrico enchufable'),\n    ('REEV', 'Eléctrico de autonomía extendida'),\n    ('HEV', 'Eléctrico híbrido'),\n    ('BEV', 'Eléctrico de batería');",
   "execution_count": null
  },
  {
   "cell_type": "code",
   "id": "b5f70a55-3d31-41b2-a4b3-9c1f4927807a",
   "metadata": {
    "language": "sql",
    "name": "check_first_cleansing"
   },
   "outputs": [],
   "source": "SELECT * FROM DEMO_VENTA_VEHICULOS.REFINED.FACT_MATRICULACIONES LIMIT 10;",
   "execution_count": null
  },
  {
   "cell_type": "markdown",
   "id": "ad2c9811-da7f-4895-b177-b2c6357f0152",
   "metadata": {
    "name": "master_table",
    "collapsed": false
   },
   "source": "# Crear tabla final\nCrear una tabla final donde se utilicen la descripción de las distintas variables en lugar de sus códigos y se filtre por matrículaciones ordinarias."
  },
  {
   "cell_type": "code",
   "id": "efccb366-41f9-4b0a-8747-a333d3cdef22",
   "metadata": {
    "language": "sql",
    "name": "clean_data"
   },
   "outputs": [],
   "source": "CREATE OR REPLACE TABLE DEMO_VENTA_VEHICULOS.CURATED.MATRICULACIONES_VEHICULOS \nAS SELECT\n    TO_DATE(t1.FECHA_MATRICULA, 'DDMMYYYY') AS FECHA_DE_MATRICULACION,\n    t2.DESCRIPCION AS CLASE_MATRICULA,\n    t1.MARCA_ITV AS MARCA,\n    t1.MODELO_ITV AS MODELO,\n    t3.DESCRIPCION AS PROCEDENCIA_VEHICULO,\n    t1.BASTIDOR_ITV AS CODIGO_BASTIDOR,\n    t4.DESCRIPCION AS TIPO_VEHICULO,\n    t5.DESCRIPCION AS TIPO_PROPULSION,\n    t1.CILINDRADA_ITV::NUMBER AS CILINDRADA,\n    t1.POTENCIA_ITV::NUMBER AS POTENCIA,\n    IFF(t1.TARA<>'******',t1.TARA,0)::NUMBER AS TARA,\n    t1.PESO_MAX::NUMBER AS PESO_MAXIMO,\n    t1.NUM_PLAZAS::INTEGER AS PLAZAS,\n    t6.DESCRIPCION AS PROVINCIA_MATRICULACION,\n    t7.DESCRIPCION AS TRAMITE,\n    t1.CODIGO_POSTAL AS CODIGO_POSTAL,\n    IFF(IND_NUEVO_USADO='N',TRUE,FALSE) AS VEHICULO_NUEVO,\n    IFF(PERSONA_FISICA_JURIDICA='D',TRUE,FALSE) AS PERSONA_FISICA,\n    t8.DESCRIPCION AS TIPO_SERVICIO,\n    t1.COD_MUNICIPIO_INE_VEH AS CODIGO_MUNICIPIO,\n    t1.MUNICIPIO AS MUNICIPIO,\n    IFF(t1.KW_ITV<>'*******',t1.KW_ITV,NULL)::NUMBER AS POTENCIA_MAXIMA,\n    IFF(t1.RENTING='N',FALSE,TRUE)::BOOLEAN AS RENTING,\n    t9.DESCRIPCION AS CATEGORIA_VEHICULO_ELECTRICO\nFROM\n    DEMO_VENTA_VEHICULOS.REFINED.FACT_MATRICULACIONES t1\n    LEFT JOIN DEMO_VENTA_VEHICULOS.REFINED.DIM_MATRICULACIONES_COD_CLASE_MAT t2 ON t1.COD_CLASE_MAT = t2.COD_CLASE_MAT\n    LEFT JOIN DEMO_VENTA_VEHICULOS.REFINED.DIM_MATRICULACIONES_COD_PROCEDENCIA t3 ON t1.COD_PROCEDENCIA_ITV = t3.COD_PROCEDENCIA\n    LEFT JOIN DEMO_VENTA_VEHICULOS.REFINED.DIM_MATRICULACIONES_COD_TIPO t4 ON t1.COD_TIPO = t4.COD_TIPO\n    LEFT JOIN DEMO_VENTA_VEHICULOS.REFINED.DIM_MATRICULACIONES_PROPULSION t5 ON t1.COD_PROPULSION_ITV = t5.COD_PROPULSION\n    LEFT JOIN DEMO_VENTA_VEHICULOS.REFINED.DIM_MATRICULACIONES_COD_PROVINCIA_MAT t6 ON t1.COD_PROVINCITA_MAT = t6.COD_PROVINCIA_MAT\n    LEFT JOIN DEMO_VENTA_VEHICULOS.REFINED.DIM_MATRICULACIONES_CLAVE_TRAMITE t7 ON t1.CLAVE_TRAMITE = t7.DESCRIPCION\n    LEFT JOIN DEMO_VENTA_VEHICULOS.REFINED.DIM_MATRICULACIONES_SERVICIO t8 ON t1.SERVICIO = t8.SERVICIO\n    LEFT JOIN DEMO_VENTA_VEHICULOS.REFINED.DIM_MATRICULACIONES_CATEGORIA_VEHICULO_ELECTRICO t9 ON  t1.CATEGORIA_VEHICULO_ELECTRICO = t9.CATEGORIA_VEHICULO_ELECTRICO\n        WHERE t1.CLAVE_TRAMITE = '1' AND t1.COD_CLASE_MAT = '0' ;\n\n    \nSELECT * \n    FROM DEMO_VENTA_VEHICULOS.CURATED.MATRICULACIONES_VEHICULOS\n    LIMIT 100;",
   "execution_count": null
  },
  {
   "cell_type": "markdown",
   "id": "af817d74-d860-43ff-a9a1-3f9e85e7fb80",
   "metadata": {
    "name": "setup_crm_data",
    "collapsed": false
   },
   "source": "# Crear tablas para muestra de datos de CRM\nEn esta sección se crearán las tablas de Oportunidades, Clientes, Vehiculos y Tareas del CRM.\nAdemás, se cargarán los datos desde un Bucket de S3."
  },
  {
   "cell_type": "code",
   "id": "39a5e81d-0271-4366-9eac-9ce6258faf37",
   "metadata": {
    "language": "sql",
    "name": "create_crm_resources"
   },
   "outputs": [],
   "source": "CREATE OR REPLACE TABLE DEMO_VENTA_VEHICULOS.RAW.CRM_CLIENTES (\n\tJSON VARIANT\n);\n\n-- Insertar datos de S3 en tabla RAW\nCOPY INTO DEMO_VENTA_VEHICULOS.RAW.CRM_CLIENTES\nFROM 's3://crmdatosdeejemplovehiculosspn/customers.json'\nFILE_FORMAT = ( TYPE = JSON , STRIP_OUTER_ARRAY = TRUE )\nON_ERROR = 'skip_file';\n\n\nCREATE OR REPLACE TABLE DEMO_VENTA_VEHICULOS.RAW.CRM_OPORTUNIDADES (\n\tJSON VARIANT\n);\n\n-- Insertar datos de S3 en tabla RAW\nCOPY INTO DEMO_VENTA_VEHICULOS.RAW.CRM_OPORTUNIDADES\nFROM 's3://crmdatosdeejemplovehiculosspn/opportunities.json'\nFILE_FORMAT = ( TYPE = JSON , STRIP_OUTER_ARRAY = TRUE )\nON_ERROR = 'skip_file';\n\nCREATE OR REPLACE TABLE DEMO_VENTA_VEHICULOS.RAW.CRM_TAREAS (\n\tJSON VARIANT\n);\n\n-- Insertar datos de S3 en tabla RAW\nCOPY INTO DEMO_VENTA_VEHICULOS.RAW.CRM_TAREAS\nFROM 's3://crmdatosdeejemplovehiculosspn/tasks.json'\nFILE_FORMAT = ( TYPE = JSON , STRIP_OUTER_ARRAY = TRUE )\nON_ERROR = 'skip_file';\n\nCREATE OR REPLACE TABLE DEMO_VENTA_VEHICULOS.RAW.CRM_VEHICULOS (\n\tJSON VARIANT\n);\n\n-- Insertar datos de S3 en tabla RAW\nCOPY INTO DEMO_VENTA_VEHICULOS.RAW.CRM_VEHICULOS\nFROM 's3://crmdatosdeejemplovehiculosspn/vehicles.json'\nFILE_FORMAT = ( TYPE = JSON , STRIP_OUTER_ARRAY = TRUE )\nON_ERROR = 'skip_file';\n\nCREATE OR REPLACE TABLE DEMO_VENTA_VEHICULOS.REFINED.CRM_CLIENTES (\n\tAPELLIDOS VARCHAR(16777216),\n\tCORREOELECTRONICO VARCHAR(16777216),\n\tCUSTOMERID VARCHAR(16777216),\n\tEDADCLIENTE NUMBER(38,0),\n\tNOMBRE VARCHAR(16777216),\n\tPUNTUACIONCREDITO NUMBER(38,0),\n\tTELEFONO VARCHAR(16777216),\n\tUBICACION VARCHAR(16777216),\n\tconstraint PK_CLIENTES primary key (CUSTOMERID)\n) AS \nSELECT \n    JSON:apellidos::VARCHAR,\n    JSON:correoElectronico::VARCHAR,\n    JSON:customerId::VARCHAR,\n    JSON:edadCliente::INTEGER,\n    JSON:nombre::VARCHAR,\n    JSON:puntuacionCredito::INTEGER,\n    JSON:telefono::VARCHAR,\n    JSON:ubicacion::VARCHAR\nFROM DEMO_VENTA_VEHICULOS.RAW.CRM_CLIENTES\n;\n\nCREATE OR REPLACE TABLE DEMO_VENTA_VEHICULOS.REFINED.CRM_OPORTUNIDADES (\n\tCOTIZACIONENVIADA BOOLEAN,\n\tCUSTOMERID VARCHAR(16777216),\n\tETAPAVENTA VARCHAR(16777216),\n\tFECHACREACION DATE,\n\tFECHADECISIONESPERADA DATE,\n\tFECHAULTIMAACTIVIDAD DATE,\n\tIDOPORTUNIDAD VARCHAR(16777216),\n\tNOTASSEGUIMIENTO VARCHAR(16777216),\n\tORIGENPROSPECTO VARCHAR(16777216),\n\tPROBABILIDAD NUMBER(38,0),\n\tPRODUCTID VARCHAR(16777216),\n\tPROXIMOSPASOS VARCHAR(16777216),\n\tPRUEBAMANEJOPEND BOOLEAN,\n\tRANGOPRESUPUESTO VARCHAR(16777216),\n\tREPRESENTANTEVENTAS VARCHAR(16777216),\n\tRESUMENOPORTUNIDAD VARCHAR(16777216),\n\tTIPOFINANCIACION VARCHAR(16777216),\n\tTIPOVENTA VARCHAR(16777216),\n\tVALORNEGOCIO NUMBER(38,0),\n\tVEHICULOENTREGA VARCHAR(16777216),\n\tconstraint PK_OPORTUNIDADES primary key (IDOPORTUNIDAD)\n)\nAS \nSELECT \n    JSON:cotizacionEnviada::BOOLEAN,\n    JSON:customerId::VARCHAR,\n    JSON:etapaVenta::VARCHAR,\n    JSON:fechaCreacion::DATE,\n    JSON:fechaDecisionEsperada::DATE,\n    JSON:fechaUltimaActividad::DATE,\n    JSON:idOportunidad::VARCHAR,\n    JSON:notasSeguimiento::VARCHAR,\n    JSON:origenProspecto::VARCHAR,\n    JSON:probabilidad::INTEGER,\n    JSON:productoId::VARCHAR,\n    JSON:proximosPasos::VARCHAR,\n    JSON:pruebaManejoPend::BOOLEAN,\n    JSON:rangoPresupuesto::VARCHAR,\n    JSON:representanteVentas::VARCHAR,\n    JSON:resumenOportunidad::VARCHAR,\n    JSON:tipoFinanciacion::VARCHAR,\n    JSON:tipoVenta::VARCHAR,\n    JSON:valorNegocio::INTEGER,\n    JSON:vehiculoEntrega::VARCHAR\nFROM DEMO_VENTA_VEHICULOS.RAW.CRM_OPORTUNIDADES\n;\n\nCREATE OR REPLACE TABLE DEMO_VENTA_VEHICULOS.REFINED.CRM_TAREAS (\n\tCUSTOMERID VARCHAR(16777216),\n\tESTADO VARCHAR(16777216),\n\tFECHA_TAREA DATE,\n\tIDOPORTUNIDAD VARCHAR(16777216),\n\tTAREA VARCHAR(16777216),\n\tTASKID VARCHAR(16777216),\n\tconstraint PK_TAREAS primary key (TASKID)\n)\nAS SELECT\n    JSON:customerId::VARCHAR,\n    JSON:estado::VARCHAR,\n    JSON:fecha_tarea::DATE,\n    JSON:idOportunidad::VARCHAR,\n    JSON:tarea::VARCHAR,\n    JSON:taskId::VARCHAR\nFROM DEMO_VENTA_VEHICULOS.RAW.CRM_TAREAS\n;\n\nCREATE OR REPLACE TABLE DEMO_VENTA_VEHICULOS.REFINED.CRM_VEHICULOS (\n\tMARCAVEHICULO VARCHAR(16777216),\n\tMODELOVEHICULO VARCHAR(16777216),\n\tPRODUCTID VARCHAR(16777216),\n\tTIPOVEHICULO VARCHAR(16777216),\n\tconstraint PK_VEHICULOS primary key (PRODUCTID)\n)\nAS SELECT\n    JSON:marcaVehiculo::VARCHAR,\n    JSON:modeloVehiculo::VARCHAR,\n    JSON:productId::VARCHAR,\n    JSON:tipoVehiculo::VARCHAR\nFROM DEMO_VENTA_VEHICULOS.RAW.CRM_VEHICULOS;",
   "execution_count": null
  },
  {
   "cell_type": "code",
   "id": "46633022-cdbe-4ac9-b853-f14465f0d76d",
   "metadata": {
    "language": "sql",
    "name": "clean_crm_tables"
   },
   "outputs": [],
   "source": "CREATE OR REPLACE TABLE DEMO_VENTA_VEHICULOS.CURATED.CRM_OPORTUNIDADES (\n\tid_oportunidad VARCHAR,\n\tid_cliente VARCHAR,\n\tid_producto VARCHAR,\n\tcotizacion_enviada BOOLEAN,\n\tetapa VARCHAR,\n\tfecha_creacion DATE,\n\tfecha_decision_esperada DATE,\n\tfecha_ultima_oportunidad DATE,\n\tnotas_seguimiento VARCHAR,\n\torigen_oportunidad VARCHAR,\n\tprobabilidad NUMBER,\n\tproximos_pasos VARCHAR,\n\tprueba_pendiente BOOLEAN,\n\trango_presupuesto VARCHAR,\n\trepresentante_ventas VARCHAR,\n\tresumen_oportunidad VARCHAR,\n\ttipo_financiacion VARCHAR,\n\ttipo_venta VARCHAR,\n\tvalor_estimado NUMBER,\n\tvehiculo_entrega VARCHAR,\n    constraint PK_OPORTUNIDADES primary key (id_oportunidad)\n)\nAS SELECT \n    IDOPORTUNIDAD,\n    CUSTOMERID,\n  \tPRODUCTID,\n    COTIZACIONENVIADA,\n\tETAPAVENTA,\n\tFECHACREACION,\n\tFECHADECISIONESPERADA,\n\tFECHAULTIMAACTIVIDAD,\n\tNOTASSEGUIMIENTO,\n\tORIGENPROSPECTO,\n\tPROBABILIDAD,\n\tPROXIMOSPASOS,\n\tPRUEBAMANEJOPEND,\n\tRANGOPRESUPUESTO,\n\tREPRESENTANTEVENTAS,\n    RESUMENOPORTUNIDAD,\n\tTIPOFINANCIACION,\n\tTIPOVENTA,\n\tVALORNEGOCIO,\n\tVEHICULOENTREGA,\nFROM DEMO_VENTA_VEHICULOS.REFINED.CRM_OPORTUNIDADES;\n\nCREATE OR REPLACE TABLE DEMO_VENTA_VEHICULOS.CURATED.CRM_TAREAS (\n\tID_TAREA VARCHAR,\n\tID_CLIENTE VARCHAR,\n    ID_OPORTUNIDAD VARCHAR,\n    ESTADO VARCHAR,\n\tFECHA_TAREA DATE,\n\tTAREA VARCHAR,\n    constraint PK_TAREAS primary key (ID_TAREA)\n)\nAS SELECT\n\tTASKID,\n    CUSTOMERID,\n    IDOPORTUNIDAD,\n\tESTADO,\n\tFECHA_TAREA,\n    TAREA\nFROM DEMO_VENTA_VEHICULOS.REFINED.CRM_TAREAS;\n\nCREATE OR REPLACE TABLE DEMO_VENTA_VEHICULOS.CURATED.CRM_VEHICULOS (\n\tID_PRODUCTO VARCHAR,\n    MARCA_VEHICULO VARCHAR,\n    MODELO_VEHICULO VARCHAR,\n    TIPO_VEHICULO VARCHAR,\n    constraint PK_TAREAS primary key (ID_PRODUCTO)\n)\nAS SELECT\n    PRODUCTID,\n\tMARCAVEHICULO,\n\tMODELOVEHICULO,\n\tTIPOVEHICULO\nFROM DEMO_VENTA_VEHICULOS.REFINED.CRM_VEHICULOS;\n;\n\nCREATE OR REPLACE TABLE DEMO_VENTA_VEHICULOS.CURATED.CRM_CLIENTES (\n\tID_CLIENTE VARCHAR,\n    NOMBRE VARCHAR,\n    APELLIDOS VARCHAR,\n\tCORREO_ELECTRONICO VARCHAR,\n\tEDAD_CLIENTE INTEGER,\n\tPUNTUACION_CREDITO INTEGER,\n\tTELEFONO VARCHAR,\n\tUBICACION VARCHAR,\n    constraint PK_CLIENTES primary key (ID_CLIENTE)\n) AS \nSELECT \n    CUSTOMERID,\n    NOMBRE,\n    APELLIDOS,\n    CORREOELECTRONICO,\n    EDADCLIENTE,\n    PUNTUACIONCREDITO,\n    TELEFONO,\n    UBICACION\nFROM DEMO_VENTA_VEHICULOS.REFINED.CRM_CLIENTES",
   "execution_count": null
  },
  {
   "cell_type": "markdown",
   "id": "3471bb49-7ded-4a0b-93aa-f69d86c2330f",
   "metadata": {
    "name": "aisql",
    "collapsed": false
   },
   "source": "# Introducing Cortex AISQL: Reimagining SQL into AI Query Language for Multimodal Data\n![AISQL Capabilities](https://publish-p57963-e462109.adobeaemcloud.com/adobe/dynamicmedia/deliver/dm-aid--b5888b22-4a2c-4508-b18d-b5a2fe33508a/screenshot-2025-05-30-at-8.32.29%25E2%2580%25AFam.png?quality=85&preferwebp=true&width=1920)\n"
  },
  {
   "cell_type": "code",
   "id": "b1ca8fca-2644-4b02-8b06-6907258703b9",
   "metadata": {
    "language": "sql",
    "name": "ai_sql_example_1"
   },
   "outputs": [],
   "source": "SELECT \n    ID_OPORTUNIDAD,\n    RESUMEN_OPORTUNIDAD,\n    AI_CLASSIFY(RESUMEN_OPORTUNIDAD,\n        [\n            'Garantía',\n            'Comodidad',\n            'Precio',\n            'Rendimiento',\n            'Versatilidad',\n            'Eléctrico',\n            'Bajo mantenimiento',\n            'Seguridad',\n            'Espacio de carga',\n            'Consumo',\n            'Tecnología',\n            'Automático',\n            'Estilo'\n        ]\n    )\nFROM DEMO_VENTA_VEHICULOS.CURATED.CRM_OPORTUNIDADES LIMIT 20;",
   "execution_count": null
  },
  {
   "cell_type": "code",
   "id": "aa006ba0-a273-404c-a1e7-5ab1d6889eeb",
   "metadata": {
    "language": "sql",
    "name": "ai_sql_example_2"
   },
   "outputs": [],
   "source": "SELECT \n    ID_OPORTUNIDAD,\n    RESUMEN_OPORTUNIDAD,\n    AI_CLASSIFY(RESUMEN_OPORTUNIDAD,\n        [\n            'Garantía',\n            'Comodidad',\n            'Precio',\n            'Rendimiento',\n            'Versatilidad',\n            'Eléctrico',\n            'Bajo mantenimiento',\n            'Seguridad',\n            'Espacio de carga',\n            'Consumo',\n            'Tecnología',\n            'Automático',\n            'Estilo'\n        ],\n        {'output_mode': 'multi'}\n    )\nFROM DEMO_VENTA_VEHICULOS.CURATED.CRM_OPORTUNIDADES LIMIT 20;",
   "execution_count": null
  },
  {
   "cell_type": "code",
   "id": "8930efad-597c-48f2-98a9-9e885d9a886e",
   "metadata": {
    "language": "sql",
    "name": "ai_sql_example_3"
   },
   "outputs": [],
   "source": "SELECT \n    ID_OPORTUNIDAD,\n    RESUMEN_OPORTUNIDAD,\n    PARSE_JSON(TO_VARCHAR(\n    AI_CLASSIFY(RESUMEN_OPORTUNIDAD,\n        [\n            {'label': 'Garantía',\n              'description': 'Cobertura extendida y protección a largo plazo del vehículo'},\n            {'label': 'Comodidad',\n            'description': 'Confort en asientos, climatización y experiencia de conducción'},\n            {'label': 'Precio',\n            'description': 'Relación calidad-precio y ajuste al presupuesto disponible'},\n            {'label': 'Rendimiento',\n            'description': 'Potencia del motor, aceleración y capacidad de respuesta'},\n            {'label': 'Versatilidad',\n            'description': 'Adaptabilidad para diferentes usos y configuraciones del habitáculo'},\n            {'label': 'Eléctrico',\n            'description': 'Tecnología híbrida o 100% eléctrica, sostenibilidad ambiental'},\n            {'label': 'Bajo mantenimiento',\n            'description': 'Costes reducidos de reparación y mantenimiento preventivo'},\n            {'label': 'Seguridad',\n            'description': 'Sistemas avanzados de protección, airbags y asistencia a la conducción'},\n            {'label': 'Espacio de carga',\n            'description': 'Capacidad del maletero y área de almacenamiento de equipaje'},\n            {'label': 'Consumo',\n            'description': 'Eficiencia en el gasto de combustible, ahorro económico'},\n            {'label': 'Tecnología',\n            'description': 'Conectividad, pantallas táctiles y sistemas de infoentretenimiento'},\n            {'label': 'Automático',\n            'description': 'Transmisión automática para facilidad de conducción'},\n            {'label': 'Estilo',\n            'description': 'Diseño exterior e interior, estética y prestigio de marca'}\n        ],\n        {'output_mode': 'multi',\n        'task_description': 'Indica las características más importantes para el cliente interesado en comprar un vehículo en base a este resumen de la oportunidad. No incluyas más de tres características, centrándote siempre en las que parezcan más relevantes por el resumen de la oportunidad.'}\n    ))):labels::VARCHAR AS CARACTERISTICAS_CLAVE,\n    PROXIMOS_PASOS,\n    AI_TRANSLATE(PROXIMOS_PASOS,'es','fr') AS NEXT_STEPS_FR\nFROM DEMO_VENTA_VEHICULOS.CURATED.CRM_OPORTUNIDADES LIMIT 20;",
   "execution_count": null
  },
  {
   "cell_type": "code",
   "id": "4a1684f4-c865-4152-9c17-25782b2edf42",
   "metadata": {
    "language": "sql",
    "name": "ai_sql_example_4"
   },
   "outputs": [],
   "source": "CREATE OR REPLACE TABLE DEMO_VENTA_VEHICULOS.CURATED.CRM_OPORTUNIDADES_ENRIQUECIDA AS\nSELECT \n    *,\n    PARSE_JSON(TO_VARCHAR(\n    AI_CLASSIFY(RESUMEN_OPORTUNIDAD,\n        [\n            {'label': 'Garantía',\n              'description': 'Cobertura extendida y protección a largo plazo del vehículo'},\n            {'label': 'Comodidad',\n            'description': 'Confort en asientos, climatización y experiencia de conducción'},\n            {'label': 'Precio',\n            'description': 'Relación calidad-precio y ajuste al presupuesto disponible'},\n            {'label': 'Rendimiento',\n            'description': 'Potencia del motor, aceleración y capacidad de respuesta'},\n            {'label': 'Versatilidad',\n            'description': 'Adaptabilidad para diferentes usos y configuraciones del habitáculo'},\n            {'label': 'Eléctrico',\n            'description': 'Tecnología híbrida o 100% eléctrica, sostenibilidad ambiental'},\n            {'label': 'Bajo mantenimiento',\n            'description': 'Costes reducidos de reparación y mantenimiento preventivo'},\n            {'label': 'Seguridad',\n            'description': 'Sistemas avanzados de protección, airbags y asistencia a la conducción'},\n            {'label': 'Espacio de carga',\n            'description': 'Capacidad del maletero y área de almacenamiento de equipaje'},\n            {'label': 'Consumo',\n            'description': 'Eficiencia en el gasto de combustible, ahorro económico'},\n            {'label': 'Tecnología',\n            'description': 'Conectividad, pantallas táctiles y sistemas de infoentretenimiento'},\n            {'label': 'Automático',\n            'description': 'Transmisión automática para facilidad de conducción'},\n            {'label': 'Estilo',\n            'description': 'Diseño exterior e interior, estética y prestigio de marca'}\n        ],\n        {'output_mode': 'multi',\n        'task_description': 'Indica las características más importantes para el cliente interesado en comprar un vehículo en base a este resumen de la oportunidad. No incluyas más de tres características, centrándote siempre en las que parezcan más relevantes por el resumen de la oportunidad.'}\n    ))):labels::VARCHAR AS CARACTERISTICAS_CLAVE,\nFROM DEMO_VENTA_VEHICULOS.CURATED.CRM_OPORTUNIDADES;",
   "execution_count": null
  },
  {
   "cell_type": "code",
   "id": "3f8f3840-2364-44b2-a0a6-2d38804ab6cc",
   "metadata": {
    "language": "sql",
    "name": "add_pk"
   },
   "outputs": [],
   "source": "ALTER TABLE DEMO_VENTA_VEHICULOS.CURATED.CRM_OPORTUNIDADES_ENRIQUECIDA \nADD PRIMARY KEY (ID_OPORTUNIDAD);",
   "execution_count": null
  },
  {
   "cell_type": "markdown",
   "id": "b0f356d0-27fe-4bb5-a909-2bd1cf54e05b",
   "metadata": {
    "name": "cortex_search",
    "collapsed": false
   },
   "source": "# Cortex Search \nGet up and running with a hybrid (vector and keyword) search engine on your text data in minutes, without having to worry about embedding, infrastructure maintenance, search quality parameter tuning, or ongoing index refreshes.\n![Snowflake Search](https://docs.snowflake.com/en/_images/cortex-search-rag.png)\n"
  },
  {
   "cell_type": "code",
   "id": "0b32422e-cee5-4139-8a9e-79e2d69e794f",
   "metadata": {
    "language": "sql",
    "name": "cell13"
   },
   "outputs": [],
   "source": "CREATE OR REPLACE TABLE DEMO_VENTA_VEHICULOS.RAW.MANUALES_PDF AS\nSELECT\n    RELATIVE_PATH,\n    SIZE,\n    TO_VARCHAR(\n        AI_PARSE_DOCUMENT(   TO_FILE('@DEMO_VENTA_VEHICULOS.RAW.MANUALES',RELATIVE_PATH),{'mode': 'LAYOUT'})) AS RAW_TEXT\nFROM DIRECTORY('@DEMO_VENTA_VEHICULOS.RAW.MANUALES');",
   "execution_count": null
  },
  {
   "cell_type": "code",
   "id": "e7004604-1fac-4628-960d-10135fcdf7e4",
   "metadata": {
    "language": "sql",
    "name": "cell14"
   },
   "outputs": [],
   "source": "CREATE OR REPLACE TABLE DEMO_VENTA_VEHICULOS.RAW.RAW_MANUALES_CHUNKS AS\nSELECT\nrelative_path AS DOCUMENTO,\n--REGEXP_SUBSTR(relative_path,'(.+)/.+.pdf',1,1,'i',1) as MARCA,\n--REGEXP_SUBSTR(relative_path, '/\\\\w+\\\\s+([^\\\\s]+)', 1, 1, 'i', 1) as MODELO,\nSPLIT_PART(relative_path, '_', 1) AS MARCA,\n    SPLIT_PART(relative_path, '_', 2) AS MODELO,\nBUILD_SCOPED_FILE_URL(@DEMO_VENTA_VEHICULOS.RAW.MANUALES, relative_path) AS file_url,\nC.value::VARCHAR as chunk\nFROM\nDEMO_VENTA_VEHICULOS.RAW.MANUALES_PDF,\nLATERAL FLATTEN( input => SNOWFLAKE.CORTEX.SPLIT_TEXT_RECURSIVE_CHARACTER (\nRAW_TEXT,'none',2000,300\n)) c;",
   "execution_count": null
  },
  {
   "cell_type": "code",
   "id": "2442e433-bb5a-423a-8952-0cbc455cc080",
   "metadata": {
    "language": "sql",
    "name": "cell15"
   },
   "outputs": [],
   "source": "select * from demo_venta_vehiculos.raw.raw_manuales_chunks limit 100;",
   "execution_count": null
  },
  {
   "cell_type": "code",
   "id": "f5857b51-6a0e-4aa6-942e-bb76a19fd32b",
   "metadata": {
    "language": "sql",
    "name": "cell2"
   },
   "outputs": [],
   "source": "",
   "execution_count": null
  },
  {
   "cell_type": "code",
   "id": "4fe6b5aa-2498-495d-8811-4111177b3c09",
   "metadata": {
    "language": "sql",
    "name": "cell3",
    "codeCollapsed": false
   },
   "outputs": [],
   "source": "",
   "execution_count": null
  },
  {
   "cell_type": "code",
   "id": "a1d3a3b2-a8b0-4db5-a4fb-6763d7c254df",
   "metadata": {
    "language": "sql",
    "name": "cell4"
   },
   "outputs": [],
   "source": "",
   "execution_count": null
  },
  {
   "cell_type": "code",
   "id": "3fd37eb8-3196-4064-80be-9ad7c0bce06d",
   "metadata": {
    "language": "sql",
    "name": "cell16"
   },
   "outputs": [],
   "source": "CREATE OR REPLACE CORTEX SEARCH SERVICE DEMO_VENTA_VEHICULOS.CURATED.SEARCH_SERVICE_MANUALES_VEHICULOS\n    ON chunk\n    ATTRIBUTES marca,modelo,documento\n    WAREHOUSE = cortex_analyst_wh\n    TARGET_LAG = '1 hour'\n    AS (\n    SELECT\n        chunk,\n        documento,\n        file_url,\n        marca,\n        modelo\n    FROM DEMO_VENTA_VEHICULOS.RAW.RAW_MANUALES_CHUNKS\n    );",
   "execution_count": null
  },
  {
   "cell_type": "code",
   "id": "30c258a2-e28b-4fa0-92aa-453b34689e02",
   "metadata": {
    "language": "sql",
    "name": "cell17"
   },
   "outputs": [],
   "source": "CREATE TABLE DEMO_VENTA_VEHICULOS.RAW.COMPETENCIA\n(\nMODELO VARCHAR PRIMARY KEY,\nCOMPETENCIA VARCHAR\n);\n\nINSERT INTO DEMO_VENTA_VEHICULOS.RAW.COMPETENCIA \nSELECT * FROM VALUES\n  ('Qashqai', '{\"COMPETIDOR_QASHQAI_1\": {\"MARCA\": \"KIA\",\"MODELO\": \"SPORTAGE\"},\"COMPETIDOR_QASHQAI_2\": {\"MARCA\": \"HYUNDAI\",\"MODELO\": \"TUCSON\"}}'),\n  ('Ariya', '{\"COMPETIDOR_ARIYA_1\": {\"MARCA\": \"KIA\",\"MODELO\": \"EV6\"},\"COMPETIDOR_ARIYA_2\": {\"MARCA\": \"TESLA\",\"MODELO\": \"MODEL Y\"}}'),\n  ('Juke', '{\"COMPETIDOR_JUKE_1\": {\"MARCA\": \"SEAT\",\"MODELO\": \"ARONA\"},\"COMPETIDOR_JUKE_2\": {\"MARCA\": \"HYUNDAI\",\"MODELO\": \"KONA\"}}'),\n  ('Micra', '{\"COMPETIDOR_MICRA_1\": {\"MARCA\": \"SEAT\",\"MODELO\": \"IBIZA\"},\"COMPETIDOR_MICRA_2\": {\"MARCA\": \"RENAULT\",\"MODELO\": \"CLIO\"}}'),\n  ('X-Trail', '{\"COMPETIDOR_X-TRAIL_1\": {\"MARCA\": \"RENAULT\",\"MODELO\": \"ESPACE\"},\"COMPETIDOR_X-TRAIL_2\": {\"MARCA\": \"MITSUBISHI\",\"MODELO\": \"OUTLANDER\"}}')\nAS t(modelo, competencia);\n\nCREATE CORTEX SEARCH SERVICE DEMO_VENTA_VEHICULOS.CURATED.search_service_competencia\n  ON competencia\n  ATTRIBUTES modelo\n  WAREHOUSE = ai_xs\n  TARGET_LAG = '1 hour'\n  INITIALIZE = ON_CREATE\n  AS select modelo, competencia from DEMO_VENTA_VEHICULOS.RAW.competencia;",
   "execution_count": null
  }
 ]
}